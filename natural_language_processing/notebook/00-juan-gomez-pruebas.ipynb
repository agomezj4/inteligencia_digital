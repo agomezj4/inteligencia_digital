{
 "cells": [
  {
   "cell_type": "markdown",
   "id": "ba8c11c1-911f-4fb7-88c2-a7bec78f8e65",
   "metadata": {},
   "source": [
    "# PRUEBAS \n",
    "Responsable: Juan Alejandro Gómez Jaramillo\n",
    "\n",
    "Repositorio: https://github.com/agomezj4/proyecto_segmentacion"
   ]
  },
  {
   "cell_type": "code",
   "execution_count": 88,
   "id": "f4b4b564-35d4-47af-aba8-a49c49becfcc",
   "metadata": {
    "ExecuteTime": {
     "end_time": "2024-07-20T15:13:28.725332Z",
     "start_time": "2024-07-20T15:13:26.497525Z"
    },
    "tags": []
   },
   "outputs": [],
   "source": [
    "import pandas as pd\n",
    "import numpy as np\n",
    "import polars as pl\n",
    "import sys\n",
    "import os\n",
    "import yaml"
   ]
  },
  {
   "cell_type": "code",
   "execution_count": 62,
   "id": "eea21e51-3641-4cb2-a18e-87256fc74432",
   "metadata": {
    "tags": []
   },
   "outputs": [],
   "source": [
    "pd.set_option('display.max_colwidth', None)"
   ]
  },
  {
   "cell_type": "code",
   "execution_count": 3,
   "id": "3586fdc4-933b-4190-88a0-32b449023050",
   "metadata": {
    "ExecuteTime": {
     "end_time": "2024-07-15T18:42:46.407974Z",
     "start_time": "2024-07-15T18:42:46.403273Z"
    },
    "tags": []
   },
   "outputs": [
    {
     "name": "stdout",
     "output_type": "stream",
     "text": [
      "/Users/agomezj/Desktop/Data Science/Proyectos/inteligencia_digital/natural_language_processing/src\n"
     ]
    }
   ],
   "source": [
    "os.chdir('/Users/agomezj/Desktop/Data Science/Proyectos/inteligencia_digital/natural_language_processing/src')\n",
    "print(os.getcwd())"
   ]
  },
  {
   "cell_type": "code",
   "execution_count": 4,
   "id": "d1ba9ff2-7ed2-49f3-9c8a-e85199628a99",
   "metadata": {
    "ExecuteTime": {
     "end_time": "2024-07-15T18:42:48.639898Z",
     "start_time": "2024-07-15T18:42:48.635495Z"
    },
    "scrolled": true,
    "tags": []
   },
   "outputs": [],
   "source": [
    "from natural_language_processing.utils import Utils\n",
    "# from proyecto_segmentacion.pipelines.raw import PipelineRaw"
   ]
  },
  {
   "cell_type": "code",
   "execution_count": 5,
   "id": "da109a1d-142a-48bb-a356-53810239c302",
   "metadata": {
    "ExecuteTime": {
     "end_time": "2024-07-15T18:42:55.446701Z",
     "start_time": "2024-07-15T18:42:55.442519Z"
    },
    "tags": []
   },
   "outputs": [],
   "source": [
    "Utils.add_src_to_path()\n",
    "project_root = Utils.get_project_root()"
   ]
  },
  {
   "cell_type": "code",
   "execution_count": 6,
   "id": "fc7a6894-093b-4fc2-854f-714fc4a08de2",
   "metadata": {
    "ExecuteTime": {
     "end_time": "2024-07-15T18:42:58.520027Z",
     "start_time": "2024-07-15T18:42:58.516275Z"
    },
    "tags": []
   },
   "outputs": [],
   "source": [
    "parameters_directory = os.path.join(project_root, 'src', 'parameters')\n",
    "parameters = Utils.load_parameters(parameters_directory)"
   ]
  },
  {
   "cell_type": "markdown",
   "id": "24caa337-d2ad-476f-8a9c-b26834944033",
   "metadata": {},
   "source": [
    "### Pipelie Raw"
   ]
  },
  {
   "cell_type": "code",
   "execution_count": 8,
   "id": "73804b02-a2d5-4bed-a0be-f03b2247bbd4",
   "metadata": {
    "ExecuteTime": {
     "end_time": "2024-07-15T18:43:02.527403Z",
     "start_time": "2024-07-15T18:43:02.523823Z"
    },
    "tags": []
   },
   "outputs": [],
   "source": [
    "data_train_pl = Utils.load_json_pl(parameters['parameters_catalog']['train_data_path'])"
   ]
  },
  {
   "cell_type": "code",
   "execution_count": 134,
   "id": "438141c3-05fa-4e4e-9039-a7231d10c92a",
   "metadata": {
    "tags": []
   },
   "outputs": [],
   "source": [
    "data_train_pd = Utils.load_json_pd(parameters['parameters_catalog']['train_data_path'])"
   ]
  },
  {
   "cell_type": "code",
   "execution_count": 140,
   "id": "71fa3084-80b2-4bd9-a264-108ecaaf4a01",
   "metadata": {
    "tags": []
   },
   "outputs": [
    {
     "data": {
      "text/html": [
       "<div><style>\n",
       ".dataframe > thead > tr,\n",
       ".dataframe > tbody > tr {\n",
       "  text-align: right;\n",
       "  white-space: pre-wrap;\n",
       "}\n",
       "</style>\n",
       "<small>shape: (1, 13)</small><table border=\"1\" class=\"dataframe\"><thead><tr><th>messages</th><th>sender_labels</th><th>receiver_labels</th><th>speakers</th><th>receivers</th><th>absolute_message_index</th><th>relative_message_index</th><th>seasons</th><th>years</th><th>game_score</th><th>game_score_delta</th><th>players</th><th>game_id</th></tr><tr><td>list[str]</td><td>list[bool]</td><td>list[str]</td><td>list[str]</td><td>list[str]</td><td>list[i64]</td><td>list[i64]</td><td>list[str]</td><td>list[str]</td><td>list[str]</td><td>list[str]</td><td>list[str]</td><td>i64</td></tr></thead><tbody><tr><td>[&quot;Germany!\n",
       "\n",
       "Just the person I want to speak with. I have a somewhat crazy idea that I’ve always wanted to try with I/G, but I’ve never actually convinced the other guy to try it. And, what’s worse, it might make you suspicious of me. \n",
       "\n",
       "So...do I suggest it?\n",
       "\n",
       "I’m thinking that this is a low stakes game, not a tournament or anything, and an interesting and unusual move set might make it more fun? That’s my hope anyway.\n",
       "\n",
       "What is your appetite like for unusual and crazy?&quot;, &quot;You&#x27;ve whet my appetite, Italy. What&#x27;s the suggestion?&quot;, … &quot;I really enjoyed playing with you, too! And yes, it really was my first game. Thanks for all your help and advice&quot;]</td><td>[true, true, … true]</td><td>[&quot;true&quot;, &quot;true&quot;, … &quot;true&quot;]</td><td>[&quot;italy&quot;, &quot;germany&quot;, … &quot;germany&quot;]</td><td>[&quot;germany&quot;, &quot;italy&quot;, … &quot;italy&quot;]</td><td>[74, 76, … 2614]</td><td>[0, 1, … 320]</td><td>[&quot;Spring&quot;, &quot;Spring&quot;, … &quot;Spring&quot;]</td><td>[&quot;1901&quot;, &quot;1901&quot;, … &quot;1910&quot;]</td><td>[&quot;3&quot;, &quot;3&quot;, … &quot;7&quot;]</td><td>[&quot;0&quot;, &quot;0&quot;, … &quot;-7&quot;]</td><td>[&quot;italy&quot;, &quot;germany&quot;]</td><td>1</td></tr></tbody></table></div>"
      ],
      "text/plain": [
       "shape: (1, 13)\n",
       "┌────────────┬───────────┬───────────┬───────────┬───┬───────────┬───────────┬───────────┬─────────┐\n",
       "│ messages   ┆ sender_la ┆ receiver_ ┆ speakers  ┆ … ┆ game_scor ┆ game_scor ┆ players   ┆ game_id │\n",
       "│ ---        ┆ bels      ┆ labels    ┆ ---       ┆   ┆ e         ┆ e_delta   ┆ ---       ┆ ---     │\n",
       "│ list[str]  ┆ ---       ┆ ---       ┆ list[str] ┆   ┆ ---       ┆ ---       ┆ list[str] ┆ i64     │\n",
       "│            ┆ list[bool ┆ list[str] ┆           ┆   ┆ list[str] ┆ list[str] ┆           ┆         │\n",
       "│            ┆ ]         ┆           ┆           ┆   ┆           ┆           ┆           ┆         │\n",
       "╞════════════╪═══════════╪═══════════╪═══════════╪═══╪═══════════╪═══════════╪═══════════╪═════════╡\n",
       "│ [\"Germany! ┆ [true,    ┆ [\"true\",  ┆ [\"italy\", ┆ … ┆ [\"3\",     ┆ [\"0\",     ┆ [\"italy\", ┆ 1       │\n",
       "│            ┆ true, …   ┆ \"true\", … ┆ \"germany\" ┆   ┆ \"3\", …    ┆ \"0\", …    ┆ \"germany\" ┆         │\n",
       "│ Just the   ┆ true]     ┆ \"true\"]   ┆ , …       ┆   ┆ \"7\"]      ┆ \"-7\"]     ┆ ]         ┆         │\n",
       "│ person I … ┆           ┆           ┆ \"german…  ┆   ┆           ┆           ┆           ┆         │\n",
       "└────────────┴───────────┴───────────┴───────────┴───┴───────────┴───────────┴───────────┴─────────┘"
      ]
     },
     "execution_count": 140,
     "metadata": {},
     "output_type": "execute_result"
    }
   ],
   "source": [
    "data_train_pl.head(1)"
   ]
  },
  {
   "cell_type": "code",
   "execution_count": 148,
   "id": "30b14712-ea57-45d7-823c-003f0b314ea2",
   "metadata": {
    "tags": []
   },
   "outputs": [],
   "source": [
    "df = data_train_pl\n",
    "\n",
    "# Lista para almacenar los nuevos registros\n",
    "new_records = []\n",
    "\n",
    "# Iterar sobre cada fila del DataFrame\n",
    "for i, row in enumerate(df.rows()):\n",
    "    # Asumimos que la columna 'messages' tiene la lista de referencia\n",
    "    num_elements = len(row[0])  \n",
    "    for j in range(num_elements):\n",
    "        new_record = {}\n",
    "        # Agregar cada columna con su valor correspondiente\n",
    "        for col_name in df.columns:\n",
    "            col_index = df.columns.index(col_name)\n",
    "            if isinstance(row[col_index], list):\n",
    "                # Agregar el valor de la lista si el índice es válido\n",
    "                if j < len(row[col_index]):\n",
    "                    new_record[col_name] = row[col_index][j]\n",
    "                else:\n",
    "                    # Manejar el caso en el que la lista es más corta\n",
    "                    new_record[col_name] = None\n",
    "            else:\n",
    "                # Replicar el valor para columnas que no son listas\n",
    "                new_record[col_name] = row[col_index]\n",
    "        # Agregar columna 'conversation_id' para rastrear el registro original\n",
    "        new_record[\"conversation_id\"] = i\n",
    "        new_records.append(new_record)\n",
    "\n",
    "# Crear nuevo DataFrame a partir de los registros generados\n",
    "new_df = pl.DataFrame(new_records)"
   ]
  },
  {
   "cell_type": "code",
   "execution_count": 160,
   "id": "e99c1960-7059-47c6-b5d7-a99379546886",
   "metadata": {
    "tags": []
   },
   "outputs": [
    {
     "data": {
      "text/html": [
       "<div><style>\n",
       ".dataframe > thead > tr,\n",
       ".dataframe > tbody > tr {\n",
       "  text-align: right;\n",
       "  white-space: pre-wrap;\n",
       "}\n",
       "</style>\n",
       "<small>shape: (13_132, 14)</small><table border=\"1\" class=\"dataframe\"><thead><tr><th>messages</th><th>sender_labels</th><th>receiver_labels</th><th>speakers</th><th>receivers</th><th>absolute_message_index</th><th>relative_message_index</th><th>seasons</th><th>years</th><th>game_score</th><th>game_score_delta</th><th>players</th><th>game_id</th><th>conversation_id</th></tr><tr><td>str</td><td>bool</td><td>str</td><td>str</td><td>str</td><td>i64</td><td>i64</td><td>str</td><td>str</td><td>str</td><td>str</td><td>str</td><td>i64</td><td>i64</td></tr></thead><tbody><tr><td>&quot;Germany!\n",
       "\n",
       "Just the person I wa…</td><td>true</td><td>&quot;true&quot;</td><td>&quot;italy&quot;</td><td>&quot;germany&quot;</td><td>74</td><td>0</td><td>&quot;Spring&quot;</td><td>&quot;1901&quot;</td><td>&quot;3&quot;</td><td>&quot;0&quot;</td><td>&quot;italy&quot;</td><td>1</td><td>0</td></tr><tr><td>&quot;You&#x27;ve whet my appetite, Italy…</td><td>true</td><td>&quot;true&quot;</td><td>&quot;germany&quot;</td><td>&quot;italy&quot;</td><td>76</td><td>1</td><td>&quot;Spring&quot;</td><td>&quot;1901&quot;</td><td>&quot;3&quot;</td><td>&quot;0&quot;</td><td>&quot;germany&quot;</td><td>1</td><td>0</td></tr><tr><td>&quot;👍&quot;</td><td>true</td><td>&quot;true&quot;</td><td>&quot;italy&quot;</td><td>&quot;germany&quot;</td><td>86</td><td>2</td><td>&quot;Spring&quot;</td><td>&quot;1901&quot;</td><td>&quot;3&quot;</td><td>&quot;0&quot;</td><td>null</td><td>1</td><td>0</td></tr><tr><td>&quot;It seems like there are a lot …</td><td>true</td><td>&quot;true&quot;</td><td>&quot;germany&quot;</td><td>&quot;italy&quot;</td><td>87</td><td>3</td><td>&quot;Spring&quot;</td><td>&quot;1901&quot;</td><td>&quot;3&quot;</td><td>&quot;0&quot;</td><td>null</td><td>1</td><td>0</td></tr><tr><td>&quot;Yeah, I can’t say I’ve tried i…</td><td>true</td><td>&quot;NOANNOTATION&quot;</td><td>&quot;italy&quot;</td><td>&quot;germany&quot;</td><td>89</td><td>4</td><td>&quot;Spring&quot;</td><td>&quot;1901&quot;</td><td>&quot;3&quot;</td><td>&quot;0&quot;</td><td>null</td><td>1</td><td>0</td></tr><tr><td>&hellip;</td><td>&hellip;</td><td>&hellip;</td><td>&hellip;</td><td>&hellip;</td><td>&hellip;</td><td>&hellip;</td><td>&hellip;</td><td>&hellip;</td><td>&hellip;</td><td>&hellip;</td><td>&hellip;</td><td>&hellip;</td><td>&hellip;</td></tr><tr><td>&quot;Is there any way of me actuall…</td><td>true</td><td>&quot;true&quot;</td><td>&quot;france&quot;</td><td>&quot;england&quot;</td><td>380</td><td>11</td><td>&quot;Fall&quot;</td><td>&quot;1902&quot;</td><td>&quot;4&quot;</td><td>&quot;-1&quot;</td><td>null</td><td>10</td><td>187</td></tr><tr><td>&quot;Can we agree on peace? What ar…</td><td>true</td><td>&quot;true&quot;</td><td>&quot;france&quot;</td><td>&quot;england&quot;</td><td>433</td><td>12</td><td>&quot;Fall&quot;</td><td>&quot;1902&quot;</td><td>&quot;4&quot;</td><td>&quot;-1&quot;</td><td>null</td><td>10</td><td>187</td></tr><tr><td>&quot;Neutrality in exchange for cur…</td><td>true</td><td>&quot;false&quot;</td><td>&quot;england&quot;</td><td>&quot;france&quot;</td><td>434</td><td>13</td><td>&quot;Fall&quot;</td><td>&quot;1902&quot;</td><td>&quot;5&quot;</td><td>&quot;1&quot;</td><td>null</td><td>10</td><td>187</td></tr><tr><td>&quot;Thats a bit too much, can I ke…</td><td>true</td><td>&quot;true&quot;</td><td>&quot;france&quot;</td><td>&quot;england&quot;</td><td>437</td><td>14</td><td>&quot;Fall&quot;</td><td>&quot;1902&quot;</td><td>&quot;4&quot;</td><td>&quot;-1&quot;</td><td>null</td><td>10</td><td>187</td></tr><tr><td>&quot;Any deals?&quot;</td><td>true</td><td>&quot;true&quot;</td><td>&quot;france&quot;</td><td>&quot;england&quot;</td><td>467</td><td>15</td><td>&quot;Spring&quot;</td><td>&quot;1903&quot;</td><td>&quot;3&quot;</td><td>&quot;-3&quot;</td><td>null</td><td>10</td><td>187</td></tr></tbody></table></div>"
      ],
      "text/plain": [
       "shape: (13_132, 14)\n",
       "┌────────────┬────────────┬────────────┬──────────┬───┬────────────┬─────────┬─────────┬───────────┐\n",
       "│ messages   ┆ sender_lab ┆ receiver_l ┆ speakers ┆ … ┆ game_score ┆ players ┆ game_id ┆ conversat │\n",
       "│ ---        ┆ els        ┆ abels      ┆ ---      ┆   ┆ _delta     ┆ ---     ┆ ---     ┆ ion_id    │\n",
       "│ str        ┆ ---        ┆ ---        ┆ str      ┆   ┆ ---        ┆ str     ┆ i64     ┆ ---       │\n",
       "│            ┆ bool       ┆ str        ┆          ┆   ┆ str        ┆         ┆         ┆ i64       │\n",
       "╞════════════╪════════════╪════════════╪══════════╪═══╪════════════╪═════════╪═════════╪═══════════╡\n",
       "│ Germany!   ┆ true       ┆ true       ┆ italy    ┆ … ┆ 0          ┆ italy   ┆ 1       ┆ 0         │\n",
       "│            ┆            ┆            ┆          ┆   ┆            ┆         ┆         ┆           │\n",
       "│ Just the   ┆            ┆            ┆          ┆   ┆            ┆         ┆         ┆           │\n",
       "│ person I   ┆            ┆            ┆          ┆   ┆            ┆         ┆         ┆           │\n",
       "│ wa…        ┆            ┆            ┆          ┆   ┆            ┆         ┆         ┆           │\n",
       "│ You've     ┆ true       ┆ true       ┆ germany  ┆ … ┆ 0          ┆ germany ┆ 1       ┆ 0         │\n",
       "│ whet my    ┆            ┆            ┆          ┆   ┆            ┆         ┆         ┆           │\n",
       "│ appetite,  ┆            ┆            ┆          ┆   ┆            ┆         ┆         ┆           │\n",
       "│ Italy…     ┆            ┆            ┆          ┆   ┆            ┆         ┆         ┆           │\n",
       "│ 👍         ┆ true       ┆ true       ┆ italy    ┆ … ┆ 0          ┆ null    ┆ 1       ┆ 0         │\n",
       "│ It seems   ┆ true       ┆ true       ┆ germany  ┆ … ┆ 0          ┆ null    ┆ 1       ┆ 0         │\n",
       "│ like there ┆            ┆            ┆          ┆   ┆            ┆         ┆         ┆           │\n",
       "│ are a lot  ┆            ┆            ┆          ┆   ┆            ┆         ┆         ┆           │\n",
       "│ …          ┆            ┆            ┆          ┆   ┆            ┆         ┆         ┆           │\n",
       "│ Yeah, I    ┆ true       ┆ NOANNOTATI ┆ italy    ┆ … ┆ 0          ┆ null    ┆ 1       ┆ 0         │\n",
       "│ can’t say  ┆            ┆ ON         ┆          ┆   ┆            ┆         ┆         ┆           │\n",
       "│ I’ve tried ┆            ┆            ┆          ┆   ┆            ┆         ┆         ┆           │\n",
       "│ i…         ┆            ┆            ┆          ┆   ┆            ┆         ┆         ┆           │\n",
       "│ …          ┆ …          ┆ …          ┆ …        ┆ … ┆ …          ┆ …       ┆ …       ┆ …         │\n",
       "│ Is there   ┆ true       ┆ true       ┆ france   ┆ … ┆ -1         ┆ null    ┆ 10      ┆ 187       │\n",
       "│ any way of ┆            ┆            ┆          ┆   ┆            ┆         ┆         ┆           │\n",
       "│ me         ┆            ┆            ┆          ┆   ┆            ┆         ┆         ┆           │\n",
       "│ actuall…   ┆            ┆            ┆          ┆   ┆            ┆         ┆         ┆           │\n",
       "│ Can we     ┆ true       ┆ true       ┆ france   ┆ … ┆ -1         ┆ null    ┆ 10      ┆ 187       │\n",
       "│ agree on   ┆            ┆            ┆          ┆   ┆            ┆         ┆         ┆           │\n",
       "│ peace?     ┆            ┆            ┆          ┆   ┆            ┆         ┆         ┆           │\n",
       "│ What ar…   ┆            ┆            ┆          ┆   ┆            ┆         ┆         ┆           │\n",
       "│ Neutrality ┆ true       ┆ false      ┆ england  ┆ … ┆ 1          ┆ null    ┆ 10      ┆ 187       │\n",
       "│ in         ┆            ┆            ┆          ┆   ┆            ┆         ┆         ┆           │\n",
       "│ exchange   ┆            ┆            ┆          ┆   ┆            ┆         ┆         ┆           │\n",
       "│ for cur…   ┆            ┆            ┆          ┆   ┆            ┆         ┆         ┆           │\n",
       "│ Thats a    ┆ true       ┆ true       ┆ france   ┆ … ┆ -1         ┆ null    ┆ 10      ┆ 187       │\n",
       "│ bit too    ┆            ┆            ┆          ┆   ┆            ┆         ┆         ┆           │\n",
       "│ much, can  ┆            ┆            ┆          ┆   ┆            ┆         ┆         ┆           │\n",
       "│ I ke…      ┆            ┆            ┆          ┆   ┆            ┆         ┆         ┆           │\n",
       "│ Any deals? ┆ true       ┆ true       ┆ france   ┆ … ┆ -3         ┆ null    ┆ 10      ┆ 187       │\n",
       "└────────────┴────────────┴────────────┴──────────┴───┴────────────┴─────────┴─────────┴───────────┘"
      ]
     },
     "execution_count": 160,
     "metadata": {},
     "output_type": "execute_result"
    }
   ],
   "source": [
    "new_df"
   ]
  },
  {
   "cell_type": "code",
   "execution_count": null,
   "id": "ed73491f-c700-454a-81b7-1c84575f3d60",
   "metadata": {},
   "outputs": [],
   "source": []
  }
 ],
 "metadata": {
  "kernelspec": {
   "display_name": "py3.10 nlp",
   "language": "python",
   "name": "nlp"
  },
  "language_info": {
   "codemirror_mode": {
    "name": "ipython",
    "version": 3
   },
   "file_extension": ".py",
   "mimetype": "text/x-python",
   "name": "python",
   "nbconvert_exporter": "python",
   "pygments_lexer": "ipython3",
   "version": "3.10.0"
  }
 },
 "nbformat": 4,
 "nbformat_minor": 5
}
